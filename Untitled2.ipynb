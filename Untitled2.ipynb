{
  "nbformat": 4,
  "nbformat_minor": 0,
  "metadata": {
    "colab": {
      "provenance": [],
      "authorship_tag": "ABX9TyO2LvSx2c7ikx0L5vaJmH4p",
      "include_colab_link": true
    },
    "kernelspec": {
      "name": "python3",
      "display_name": "Python 3"
    },
    "language_info": {
      "name": "python"
    }
  },
  "cells": [
    {
      "cell_type": "markdown",
      "metadata": {
        "id": "view-in-github",
        "colab_type": "text"
      },
      "source": [
        "<a href=\"https://colab.research.google.com/github/brunowan45/ProgramacaoModelagemP1Manha/blob/main/Untitled2.ipynb\" target=\"_parent\"><img src=\"https://colab.research.google.com/assets/colab-badge.svg\" alt=\"Open In Colab\"/></a>"
      ]
    },
    {
      "cell_type": "code",
      "source": [],
      "metadata": {
        "id": "2wXrVxfmovwv"
      },
      "execution_count": null,
      "outputs": []
    },
    {
      "cell_type": "code",
      "execution_count": null,
      "metadata": {
        "colab": {
          "base_uri": "https://localhost:8080/"
        },
        "id": "YKHKEe5PbZgP",
        "outputId": "484f0262-6379-4c22-e531-dca375064c72"
      },
      "outputs": [
        {
          "output_type": "execute_result",
          "data": {
            "text/plain": [
              "[12, 10, 4, 2, 14]"
            ]
          },
          "metadata": {},
          "execution_count": 5
        }
      ],
      "source": [
        "#Map map(função, interavel)\n",
        "nums = [6, 5, 2, 1, 7]\n",
        "newList = list(map(lambda x: x*2, nums))\n",
        "newList"
      ]
    },
    {
      "cell_type": "code",
      "source": [
        "frutas = ['banana', 'pera', 'uva', 'caja', 'manga']"
      ],
      "metadata": {
        "id": "YJnJmmmMq9yC"
      },
      "execution_count": null,
      "outputs": []
    },
    {
      "cell_type": "code",
      "source": [
        "#Recebe uma lista de frutas e \n",
        "#Retorna uma lista com a quantidade de cartacteres.\n",
        "\n",
        "newList = list(map(lambda x: len(x), frutas))\n",
        "newList"
      ],
      "metadata": {
        "colab": {
          "base_uri": "https://localhost:8080/"
        },
        "id": "aX9iKOXerH4p",
        "outputId": "f75fc8d4-3e88-48d0-c1b1-05b5e29e469f"
      },
      "execution_count": null,
      "outputs": [
        {
          "output_type": "execute_result",
          "data": {
            "text/plain": [
              "[6, 4, 3, 4, 5]"
            ]
          },
          "metadata": {},
          "execution_count": 10
        }
      ]
    },
    {
      "cell_type": "code",
      "source": [
        "#MAP map(função, iteravel)\n",
        "precos = [9.99, 2.50, 3.45, 7.00, 10.99]"
      ],
      "metadata": {
        "id": "Tvxj3SLktoAW"
      },
      "execution_count": null,
      "outputs": []
    },
    {
      "cell_type": "code",
      "source": [
        "#Pegar os preços de uma lista\n",
        "#adicionar 2 a cada um deles\n",
        "newList = list(map(lambda x: x+2, precos))\n",
        "newList "
      ],
      "metadata": {
        "colab": {
          "base_uri": "https://localhost:8080/"
        },
        "id": "-zchDxegt30O",
        "outputId": "bced96cf-85af-4f59-e72c-9744bd96fc92"
      },
      "execution_count": null,
      "outputs": [
        {
          "output_type": "execute_result",
          "data": {
            "text/plain": [
              "[11.99, 4.5, 5.45, 9.0, 12.99]"
            ]
          },
          "metadata": {},
          "execution_count": 12
        }
      ]
    },
    {
      "cell_type": "code",
      "source": [
        "notas = [6, 7, 3.5, 9, 6.5]\n",
        "#quero apenas os aprovados...\n",
        "aprovados = list(filter(lambda x : x>=7, notas))\n",
        "\n",
        "aprovados"
      ],
      "metadata": {
        "colab": {
          "base_uri": "https://localhost:8080/"
        },
        "id": "bZ5IoeIDv7R0",
        "outputId": "85175fba-a707-4264-c062-4505ec4ddfc6"
      },
      "execution_count": null,
      "outputs": [
        {
          "output_type": "execute_result",
          "data": {
            "text/plain": [
              "[7, 9]"
            ]
          },
          "metadata": {},
          "execution_count": 14
        }
      ]
    }
  ]
}